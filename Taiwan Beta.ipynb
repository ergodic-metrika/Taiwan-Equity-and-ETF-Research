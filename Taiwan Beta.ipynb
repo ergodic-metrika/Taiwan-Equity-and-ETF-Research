{
 "cells": [
  {
   "cell_type": "code",
   "execution_count": 4,
   "id": "7f4728d7-56fc-4aed-85f3-06e77e8d46b9",
   "metadata": {},
   "outputs": [],
   "source": [
    "#Package\n",
    "import numpy as np\n",
    "import pandas as pd\n",
    "import yfinance as yf\n",
    "import os\n",
    "from datetime import datetime, timedelta\n"
   ]
  },
  {
   "cell_type": "code",
   "execution_count": 5,
   "id": "aa9bcc25-da62-4c78-8c5d-73dcfd6f2fa2",
   "metadata": {},
   "outputs": [],
   "source": [
    "# Create directory if it doesn't exist\n",
    "file_path = r'D:\\Taiwan Research'\n",
    "if not os.path.exists(file_path):\n",
    "    os.makedirs(file_path)\n",
    "    print(f\"Created directory: {file_path}\")\n",
    "\n",
    "# List of symbols\n",
    "symbols = [\n",
    "    '0050.TW', '0056.TW', '00662.TW', '00701.TW', '00702.TW', \n",
    "    '00703.TW', '00757.TW', '00830.TW', '00850.TW', '00878.TW',\n",
    "    '00881.TW', '00882.TW', '00891.TW', '00893.TW', '00894.TW',\n",
    "    '00915.TW', '00918.TW', '00919.TW', '00927.TW', '00929.TW',\n",
    "    '00934.TW', '00936.TW', '00939.TW', '00940.TW', '00944.TW',\n",
    "    '00946.TW', '00954.TW', '2330.TW', '^TWII'\n",
    "]"
   ]
  },
  {
   "cell_type": "code",
   "execution_count": 6,
   "id": "3a11328f-1443-419f-83a0-72646da6644a",
   "metadata": {},
   "outputs": [],
   "source": [
    "# Set date range\n",
    "end_date = datetime.now()\n",
    "start_date = datetime(2024, 7, 1)  # Start from July 1, 2024\n",
    "\n",
    "# Download data\n",
    "all_data = {}\n",
    "failed_downloads = []\n",
    "successful_downloads = []\n"
   ]
  },
  {
   "cell_type": "code",
   "execution_count": 7,
   "id": "826610d2-68ef-4e78-be06-0d7b53eb135a",
   "metadata": {},
   "outputs": [
    {
     "name": "stderr",
     "output_type": "stream",
     "text": [
      "[*********************100%***********************]  1 of 1 completed\n",
      "[*********************100%***********************]  1 of 1 completed\n",
      "[*********************100%***********************]  1 of 1 completed"
     ]
    },
    {
     "name": "stdout",
     "output_type": "stream",
     "text": [
      "Failed to download 0050.TW: 'Adj Close'\n",
      "Failed to download 0056.TW: 'Adj Close'\n"
     ]
    },
    {
     "name": "stderr",
     "output_type": "stream",
     "text": [
      "\n",
      "[*********************100%***********************]  1 of 1 completed\n"
     ]
    },
    {
     "name": "stdout",
     "output_type": "stream",
     "text": [
      "Failed to download 00662.TW: 'Adj Close'\n",
      "Failed to download 00701.TW: 'Adj Close'\n"
     ]
    },
    {
     "name": "stderr",
     "output_type": "stream",
     "text": [
      "[*********************100%***********************]  1 of 1 completed\n",
      "[*********************100%***********************]  1 of 1 completed\n",
      "[*********************100%***********************]  1 of 1 completed\n"
     ]
    },
    {
     "name": "stdout",
     "output_type": "stream",
     "text": [
      "Failed to download 00702.TW: 'Adj Close'\n",
      "Failed to download 00703.TW: 'Adj Close'\n",
      "Failed to download 00757.TW: 'Adj Close'\n"
     ]
    },
    {
     "name": "stderr",
     "output_type": "stream",
     "text": [
      "[*********************100%***********************]  1 of 1 completed\n",
      "[*********************100%***********************]  1 of 1 completed\n"
     ]
    },
    {
     "name": "stdout",
     "output_type": "stream",
     "text": [
      "Failed to download 00830.TW: 'Adj Close'\n",
      "Failed to download 00850.TW: 'Adj Close'\n"
     ]
    },
    {
     "name": "stderr",
     "output_type": "stream",
     "text": [
      "[*********************100%***********************]  1 of 1 completed\n",
      "[*********************100%***********************]  1 of 1 completed\n",
      "[*********************100%***********************]  1 of 1 completed"
     ]
    },
    {
     "name": "stdout",
     "output_type": "stream",
     "text": [
      "Failed to download 00878.TW: 'Adj Close'\n",
      "Failed to download 00881.TW: 'Adj Close'\n"
     ]
    },
    {
     "name": "stderr",
     "output_type": "stream",
     "text": [
      "\n",
      "[*********************100%***********************]  1 of 1 completed\n",
      "[*********************100%***********************]  1 of 1 completed\n"
     ]
    },
    {
     "name": "stdout",
     "output_type": "stream",
     "text": [
      "Failed to download 00882.TW: 'Adj Close'\n",
      "Failed to download 00891.TW: 'Adj Close'\n",
      "Failed to download 00893.TW: 'Adj Close'\n"
     ]
    },
    {
     "name": "stderr",
     "output_type": "stream",
     "text": [
      "[*********************100%***********************]  1 of 1 completed\n",
      "[*********************100%***********************]  1 of 1 completed\n",
      "[*********************100%***********************]  1 of 1 completed"
     ]
    },
    {
     "name": "stdout",
     "output_type": "stream",
     "text": [
      "Failed to download 00894.TW: 'Adj Close'\n",
      "Failed to download 00915.TW: 'Adj Close'\n"
     ]
    },
    {
     "name": "stderr",
     "output_type": "stream",
     "text": [
      "\n",
      "[*********************100%***********************]  1 of 1 completed\n",
      "[*********************100%***********************]  1 of 1 completed"
     ]
    },
    {
     "name": "stdout",
     "output_type": "stream",
     "text": [
      "Failed to download 00918.TW: 'Adj Close'\n",
      "Failed to download 00919.TW: 'Adj Close'\n"
     ]
    },
    {
     "name": "stderr",
     "output_type": "stream",
     "text": [
      "\n",
      "[*********************100%***********************]  1 of 1 completed\n",
      "[*********************100%***********************]  1 of 1 completed"
     ]
    },
    {
     "name": "stdout",
     "output_type": "stream",
     "text": [
      "Failed to download 00927.TW: 'Adj Close'\n",
      "Failed to download 00929.TW: 'Adj Close'\n",
      "Failed to download 00934.TW: 'Adj Close'\n"
     ]
    },
    {
     "name": "stderr",
     "output_type": "stream",
     "text": [
      "\n",
      "[*********************100%***********************]  1 of 1 completed\n",
      "[*********************100%***********************]  1 of 1 completed\n"
     ]
    },
    {
     "name": "stdout",
     "output_type": "stream",
     "text": [
      "Failed to download 00936.TW: 'Adj Close'\n",
      "Failed to download 00939.TW: 'Adj Close'\n"
     ]
    },
    {
     "name": "stderr",
     "output_type": "stream",
     "text": [
      "[*********************100%***********************]  1 of 1 completed\n",
      "[*********************100%***********************]  1 of 1 completed\n",
      "[*********************100%***********************]  1 of 1 completed"
     ]
    },
    {
     "name": "stdout",
     "output_type": "stream",
     "text": [
      "Failed to download 00940.TW: 'Adj Close'\n",
      "Failed to download 00944.TW: 'Adj Close'\n"
     ]
    },
    {
     "name": "stderr",
     "output_type": "stream",
     "text": [
      "\n",
      "[*********************100%***********************]  1 of 1 completed\n"
     ]
    },
    {
     "name": "stdout",
     "output_type": "stream",
     "text": [
      "Failed to download 00946.TW: 'Adj Close'\n",
      "Failed to download 00954.TW: 'Adj Close'\n"
     ]
    },
    {
     "name": "stderr",
     "output_type": "stream",
     "text": [
      "[*********************100%***********************]  1 of 1 completed\n",
      "[*********************100%***********************]  1 of 1 completed\n"
     ]
    },
    {
     "name": "stdout",
     "output_type": "stream",
     "text": [
      "Failed to download 2330.TW: 'Adj Close'\n",
      "Failed to download ^TWII: 'Adj Close'\n",
      "\n",
      "Download complete!\n",
      "Data saved to: D:\\Taiwan Research\\taiwan_etf_stocks_data.xlsx\n",
      "\n",
      "Failed downloads:\n",
      "0050.TW\n",
      "0056.TW\n",
      "00662.TW\n",
      "00701.TW\n",
      "00702.TW\n",
      "00703.TW\n",
      "00757.TW\n",
      "00830.TW\n",
      "00850.TW\n",
      "00878.TW\n",
      "00881.TW\n",
      "00882.TW\n",
      "00891.TW\n",
      "00893.TW\n",
      "00894.TW\n",
      "00915.TW\n",
      "00918.TW\n",
      "00919.TW\n",
      "00927.TW\n",
      "00929.TW\n",
      "00934.TW\n",
      "00936.TW\n",
      "00939.TW\n",
      "00940.TW\n",
      "00944.TW\n",
      "00946.TW\n",
      "00954.TW\n",
      "2330.TW\n",
      "^TWII\n"
     ]
    }
   ],
   "source": [
    "# Download adjusted close prices only\n",
    "for symbol in symbols:\n",
    "    try:\n",
    "        data = yf.download(symbol, start=start_date, end=end_date)['Adj Close']\n",
    "        if len(data) > 0:\n",
    "            all_data[symbol] = data\n",
    "            successful_downloads.append(symbol)\n",
    "            print(f\"Successfully downloaded {symbol}\")\n",
    "        else:\n",
    "            failed_downloads.append(symbol)\n",
    "            print(f\"No data found for {symbol}\")\n",
    "    except Exception as e:\n",
    "        failed_downloads.append(symbol)\n",
    "        print(f\"Failed to download {symbol}: {str(e)}\")\n",
    "\n",
    "# Create DataFrame from all successful downloads\n",
    "df = pd.DataFrame(all_data)\n",
    "\n",
    "# Save to Excel\n",
    "output_file = os.path.join(file_path, 'taiwan_etf_stocks_data.xlsx')\n",
    "df.to_excel(output_file)\n",
    "\n",
    "print(\"\\nDownload complete!\")\n",
    "print(f\"Data saved to: {output_file}\")\n",
    "\n",
    "# Print basic information\n",
    "if len(df) > 0:\n",
    "    print(\"\\nDataset Information:\")\n",
    "    print(f\"Date Range: {df.index[0]} to {df.index[-1]}\")\n",
    "    print(f\"Number of trading days: {len(df)}\")\n",
    "    print(f\"Number of securities: {len(df.columns)}\")\n",
    "\n",
    "    # Check for missing data\n",
    "    missing_data = df.isnull().sum()\n",
    "    if missing_data.any():\n",
    "        print(\"\\nMissing data points per security:\")\n",
    "        print(missing_data[missing_data > 0])\n",
    "\n",
    "if failed_downloads:\n",
    "    print(\"\\nFailed downloads:\")\n",
    "    for symbol in failed_downloads:\n",
    "        print(symbol)"
   ]
  },
  {
   "cell_type": "code",
   "execution_count": null,
   "id": "aa9bc824-aa53-4a77-868b-0c4ffdc2d77c",
   "metadata": {},
   "outputs": [],
   "source": []
  }
 ],
 "metadata": {
  "kernelspec": {
   "display_name": "Python 3 (ipykernel)",
   "language": "python",
   "name": "python3"
  },
  "language_info": {
   "codemirror_mode": {
    "name": "ipython",
    "version": 3
   },
   "file_extension": ".py",
   "mimetype": "text/x-python",
   "name": "python",
   "nbconvert_exporter": "python",
   "pygments_lexer": "ipython3",
   "version": "3.11.7"
  }
 },
 "nbformat": 4,
 "nbformat_minor": 5
}
