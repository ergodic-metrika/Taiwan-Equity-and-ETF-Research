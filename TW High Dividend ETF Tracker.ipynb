{
 "cells": [
  {
   "cell_type": "code",
   "execution_count": 11,
   "id": "2371e217-85d6-4067-9921-c62d38a5a9f8",
   "metadata": {},
   "outputs": [],
   "source": [
    "import pandas as pd\n",
    "import numpy as np\n",
    "\n",
    "# Cumulative dividends for 2025\n",
    "dividends = {\n",
    "    '0050 TW': 0.675,\n",
    "    '00818 TW': 0.75,\n",
    "    '00894 TW': 0.55 + 0.40,\n",
    "    '00713 TW': 1.4 + 1.1,\n",
    "    '00850 TW': 0.66 + 0.6,\n",
    "    '0056 TW': 1.07 + 1.07,\n",
    "    '00891 TW': 0.41 + 0.41,\n",
    "    '00915 TW': 0.50 + 0.21,\n",
    "    '00918 TW': 0.70 + 0.70,\n",
    "    '00919 TW': 0.72 + 0.72\n",
    "}"
   ]
  },
  {
   "cell_type": "code",
   "execution_count": 12,
   "id": "49bb0bd7-cd5f-44c4-b7ee-94277251f6c7",
   "metadata": {},
   "outputs": [],
   "source": [
    "# Read the Excel file\n",
    "file_path = r'E:\\TW High Div\\TW High Div Data 2025.xlsx'\n",
    "df = pd.read_excel(file_path)"
   ]
  },
  {
   "cell_type": "code",
   "execution_count": 13,
   "id": "8416ef3a-bce4-4b5f-be8f-d5b15de63806",
   "metadata": {},
   "outputs": [
    {
     "name": "stdout",
     "output_type": "stream",
     "text": [
      "DataFrame Columns: ['Date', '0050 TW', '00818 TW', '00894 TW', '00713 TW', '00850 TW', '0056 TW', '00891 TW', '00915 TW', '00918 TW', '00919 TW']\n"
     ]
    }
   ],
   "source": [
    "# Normalize column names: strip spaces, replace multiple spaces with single space\n",
    "df.columns = df.columns.str.replace(r'\\s+', ' ', regex=True).str.strip()\n",
    "\n",
    "# Print column names for debugging\n",
    "print(\"DataFrame Columns:\", df.columns.tolist())\n",
    "\n",
    "# Verify column names match the dividends dictionary\n",
    "missing_cols = [col for col in dividends.keys() if col not in df.columns]\n",
    "if missing_cols:\n",
    "    # Suggest possible matches for missing columns\n",
    "    for missing in missing_cols:\n",
    "        close_matches = [c for c in df.columns if missing[:4] in c]\n",
    "        print(f\"Possible matches for '{missing}': {close_matches}\")\n",
    "    raise ValueError(f\"Columns not found in DataFrame: {missing_cols}\")\n"
   ]
  },
  {
   "cell_type": "code",
   "execution_count": 14,
   "id": "5d84ceaa-beea-4488-83a0-17941b9d63ba",
   "metadata": {},
   "outputs": [],
   "source": [
    "\n",
    "# Get the first row (First trading day of 2025) and last row (Latest trading day)\n",
    "start_row = df.iloc[0]\n",
    "end_row = df.iloc[-1]"
   ]
  },
  {
   "cell_type": "code",
   "execution_count": 15,
   "id": "fbb36694-f144-49d2-87ea-b7d12e2bff51",
   "metadata": {},
   "outputs": [],
   "source": [
    "\n",
    "# Extract starting and ending prices for each ETF\n",
    "start_prices = {col: start_row[col] for col in dividends.keys()}\n",
    "end_prices = {col: end_row[col] for col in dividends.keys()}\n",
    "\n",
    "# Calculate total return for each ETF\n",
    "total_returns = {}\n",
    "for etf in dividends:\n",
    "    if start_prices[etf] != 0:  # Avoid division by zero\n",
    "        return_pct = ((end_prices[etf] + dividends[etf] - start_prices[etf]) / start_prices[etf]) * 100\n",
    "        total_returns[etf] = round(return_pct, 2)\n"
   ]
  },
  {
   "cell_type": "code",
   "execution_count": 16,
   "id": "c519a9a1-12da-44a7-a309-16bb43ebbdbc",
   "metadata": {},
   "outputs": [
    {
     "name": "stdout",
     "output_type": "stream",
     "text": [
      "\n",
      "Total Returns from 2025-01-02 00:00:00 to 2025-06-10 00:00:00 (including dividends):\n",
      "0050 TW: -2.43%\n",
      "00818 TW: -2.12%\n",
      "00894 TW: -2.79%\n",
      "00713 TW: 2.36%\n",
      "00850 TW: -1.95%\n",
      "0056 TW: -0.08%\n",
      "00891 TW: -3.08%\n",
      "00915 TW: -3.86%\n",
      "00918 TW: 2.73%\n",
      "00919 TW: 1.85%\n"
     ]
    }
   ],
   "source": [
    "\n",
    "# Output results\n",
    "print(f\"\\nTotal Returns from {start_row['Date']} to {end_row['Date']} (including dividends):\")\n",
    "for etf, return_pct in total_returns.items():\n",
    "    print(f\"{etf}: {return_pct}%\")"
   ]
  },
  {
   "cell_type": "code",
   "execution_count": null,
   "id": "4b78abc9-2582-4e0c-a247-cce84e645635",
   "metadata": {},
   "outputs": [],
   "source": []
  }
 ],
 "metadata": {
  "kernelspec": {
   "display_name": "Python 3 (ipykernel)",
   "language": "python",
   "name": "python3"
  },
  "language_info": {
   "codemirror_mode": {
    "name": "ipython",
    "version": 3
   },
   "file_extension": ".py",
   "mimetype": "text/x-python",
   "name": "python",
   "nbconvert_exporter": "python",
   "pygments_lexer": "ipython3",
   "version": "3.11.7"
  }
 },
 "nbformat": 4,
 "nbformat_minor": 5
}
